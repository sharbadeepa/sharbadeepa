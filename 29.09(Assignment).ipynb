{
 "cells": [
  {
   "cell_type": "code",
   "execution_count": 12,
   "metadata": {},
   "outputs": [
    {
     "name": "stdout",
     "output_type": "stream",
     "text": [
      "a\n",
      "b\n",
      "c\n",
      "d\n",
      "e\n",
      "['a', 'b', 'c', 'd', 'e']\n",
      "abcde\n",
      "(11, 'perpetually')\n"
     ]
    }
   ],
   "source": [
    "def longest(a):\n",
    "    long_key = \" \"\n",
    "    temp = []\n",
    "    for i in a:\n",
    "        if i not in temp:\n",
    "            print(i)\n",
    "            temp.append(i)   \n",
    "\n",
    "#     temp = len(long_key)\n",
    "    print(temp)\n",
    "    print(\"\".join(temp))\n",
    "longest('abcdeabc')\n",
    "\n",
    "\n",
    "\n"
   ]
  },
  {
   "cell_type": "code",
   "execution_count": 13,
   "metadata": {},
   "outputs": [
    {
     "name": "stdout",
     "output_type": "stream",
     "text": [
      "(11, 'perpetually')\n"
     ]
    }
   ],
   "source": [
    "def longest_word(a):\n",
    "    df=[]\n",
    "    cv=[]\n",
    "    dic={}\n",
    "    for i in a.split(\" \"):\n",
    "        df.append(len(i))\n",
    "        cv.append(i)\n",
    "    for j,k in zip(df,cv):\n",
    "        dic[j] = k\n",
    "    print(max(dic.items()))\n",
    "longest(\"I will and ever will be gratefully and perpetually loving you Tesh!\")\n"
   ]
  },
  {
   "cell_type": "code",
   "execution_count": null,
   "metadata": {},
   "outputs": [],
   "source": [
    "def longest(a):\n",
    "    df=[]\n",
    "    cv=[]\n",
    "    dic={}\n",
    "    for i in a.split(\" \"):\n",
    "        df.append(len(i))\n",
    "        cv.append(i)\n",
    "    for j,k in zip(df,cv):\n",
    "        dic[j] = k\n",
    "    print(max(dic.items()))\n",
    "longest(\"I will and ever will be gratefully and perpetually loving you Tesh!\")\n",
    "\n"
   ]
  },
  {
   "cell_type": "code",
   "execution_count": 21,
   "metadata": {},
   "outputs": [
    {
     "name": "stdout",
     "output_type": "stream",
     "text": [
      "garden_feast\n",
      "meat_festival\n",
      "['beef', 'meatball', 'bacon']\n",
      "['spinach', 'olives', 'mushroom']\n",
      "1\n",
      "2\n"
     ]
    }
   ],
   "source": [
    "class Pizza():\n",
    "    order_num = 0\n",
    " \n",
    "\n",
    "    def __init__(self,ingredients):\n",
    "        Pizza.order_num += 1\n",
    "        self.order_number = Pizza.order_num\n",
    "        self.ingredients = ingredients\n",
    "        self.pizza_type = \", \".join(ingredients)\n",
    "        self.ready_made_pizza = {\n",
    "        \"hawaiian\": [\"ham\", \"pineapple\"],\n",
    "        \"meat_festival\": [\"beef\", \"meatball\", \"bacon\"],\n",
    "        \"garden_feast\": [\"spinach\", \"olives\", \"mushroom\"]\n",
    "        }\n",
    "        for key in self.ready_made_pizza:\n",
    "            if self.ingredients == self.ready_made_pizza[key]:\n",
    "                self.pizza_type = key\n",
    " \n",
    "p1=Pizza([\"spinach\", \"olives\", \"mushroom\"])\n",
    "p2=Pizza([\"beef\", \"meatball\", \"bacon\"])\n",
    "print(p1.pizza_type)\n",
    "print(p2.pizza_type)\n",
    "print(p2.ingredients)\n",
    "print(p1.ingredients)\n",
    "print(p1.order_number)\n",
    "print(p2.order_number)\n"
   ]
  },
  {
   "cell_type": "code",
   "execution_count": 28,
   "metadata": {},
   "outputs": [
    {
     "name": "stderr",
     "output_type": "stream",
     "text": [
      "/snap/jupyter/6/lib/python3.7/site-packages/ipykernel_launcher.py:1: DeprecationWarning: Using or importing the ABCs from 'collections' instead of from 'collections.abc' is deprecated, and in 3.8 it will stop working\n",
      "  \"\"\"Entry point for launching an IPython kernel.\n"
     ]
    },
    {
     "data": {
      "text/plain": [
       "5"
      ]
     },
     "execution_count": 28,
     "metadata": {},
     "output_type": "execute_result"
    }
   ],
   "source": [
    "from collections import Sequence\n",
    "\n",
    "from itertools import chain,count\n",
    "def depth(seq):\n",
    "    for level in count():\n",
    "        if not seq:\n",
    "            return level\n",
    "        seq = list(chain.from_iterable(s for s in seq if isinstance(s, Sequence)))\n",
    "\n",
    "depth([1, 4, [1, 4, [1, 4, [1, 4, [5]]]]])\n",
    "\n",
    "\n"
   ]
  },
  {
   "cell_type": "code",
   "execution_count": 32,
   "metadata": {},
   "outputs": [
    {
     "name": "stdout",
     "output_type": "stream",
     "text": [
      "[2, 1, 5]\n",
      "[11, 13, 17, 14, 15, 16, 12, 18, 19]\n"
     ]
    }
   ],
   "source": [
    "import random\n",
    "\n",
    "def shuffle_count(num):\n",
    "    inp_list = [11,12,13,14,15,16,17,18,19]\n",
    "\n",
    "#     num = 3 \n",
    "\n",
    "    indices = random.sample(range(len(inp_list)), num)\n",
    "    print(random.sample(range(len(inp_list)), num))\n",
    "\n",
    "\n",
    "\n",
    "    shuffled_indices = indices.copy()\n",
    "    success = False\n",
    "    while not success:\n",
    "        random.shuffle(shuffled_indices)\n",
    "        mapping = { a:b for a, b in zip(indices, shuffled_indices) }\n",
    "        for a, b in mapping.items():\n",
    "            if a == b:\n",
    "                success = False\n",
    "                break\n",
    "        else:\n",
    "            success = True\n",
    "\n",
    "\n",
    "    out_list = inp_list.copy()\n",
    "    for a, b in mapping.items():\n",
    "        out_list[a] = inp_list[b]\n",
    "\n",
    "    print(out_list)\n",
    "shuffle_count(3)\n"
   ]
  },
  {
   "cell_type": "code",
   "execution_count": null,
   "metadata": {},
   "outputs": [],
   "source": []
  },
  {
   "cell_type": "code",
   "execution_count": null,
   "metadata": {},
   "outputs": [],
   "source": []
  },
  {
   "cell_type": "code",
   "execution_count": 22,
   "metadata": {},
   "outputs": [
    {
     "name": "stdout",
     "output_type": "stream",
     "text": [
      "['elephance', 'Frants', 'ance!']\n"
     ]
    }
   ],
   "source": [
    "def replace_new(new):\n",
    "    a = \"The elephants in France were chased by ants!\"\n",
    "    newl = []\n",
    "    for i in a.split(\" \"):\n",
    "        if 'nts' in i:\n",
    "            replacing = i.replace('nts','nce')\n",
    "            newl.append(replacing)\n",
    "        elif 'nce' in i:\n",
    "            replacing_new = i.replace('nce','nts')\n",
    "            newl.append(replacing_new)\n",
    "            \n",
    "#             changing.replace('nts','nce')\n",
    "    print(newl)\n",
    "\n",
    "replace_new(\"The elephants in France were chased by ants!\")\n",
    "    "
   ]
  },
  {
   "cell_type": "code",
   "execution_count": 34,
   "metadata": {},
   "outputs": [
    {
     "name": "stdout",
     "output_type": "stream",
     "text": [
      "Original dictionary is : \n",
      "{'Mubashir': 'Name', '31': 'Age', 'Male': 'Sex', 'Pilot': 'Job', 'Matt': 'Name', '40': 'Age', 'Programmer': 'Job'}\n",
      "\n",
      "Dictionary after swapping is : \n",
      "keys: values\n",
      "Dictionary after swapping is : \n",
      "keys: values\n",
      "Dictionary after swapping is : \n",
      "keys: values\n",
      "Dictionary after swapping is : \n",
      "keys: values\n",
      "Name  : ['Mubashir', 'Matt']\n",
      "Age  : ['31', '40']\n",
      "Sex  : ['Male']\n",
      "Job  : ['Pilot', 'Programmer']\n"
     ]
    }
   ],
   "source": [
    "\n",
    "old_dict = {\n",
    "\"Mubashir\": \"Name\",\n",
    "\"31\": \"Age\",\n",
    "\"Male\": \"Sex\",\n",
    "\"Pilot\": \"Job\",\n",
    "\"Matt\": \"Name\",\n",
    "\"40\": \"Age\",\n",
    "\"Programmer\": \"Job\"\n",
    "}\n",
    "print (\"Original dictionary is : \")\n",
    "print(old_dict)\n",
    "print()\n",
    "new_dict = {}\n",
    "for key, value in old_dict.items():\n",
    "    if value in new_dict:\n",
    "        new_dict[value].append(key)\n",
    "    else:\n",
    "        new_dict[value]=[key]\n",
    "        print (\"Dictionary after swapping is : \")\n",
    "        print(\"keys: values\")\n",
    "for i in new_dict:\n",
    "    print(i, \" :\", new_dict[i])\n",
    "\n"
   ]
  },
  {
   "cell_type": "code",
   "execution_count": null,
   "metadata": {},
   "outputs": [],
   "source": []
  }
 ],
 "metadata": {
  "kernelspec": {
   "display_name": "Python 3",
   "language": "python",
   "name": "python3"
  }
 },
 "nbformat": 4,
 "nbformat_minor": 2
}
