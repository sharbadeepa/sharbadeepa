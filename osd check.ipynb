{
 "cells": [
  {
   "cell_type": "code",
   "execution_count": 1,
   "id": "f22cd2c3",
   "metadata": {},
   "outputs": [
    {
     "name": "stdout",
     "output_type": "stream",
     "text": [
      "Page number: 0\n",
      "Orientation in degrees: 0\n",
      "Rotate: 0\n",
      "Orientation confidence: 8.94\n",
      "Script: Latin\n",
      "Script confidence: 4.11\n",
      "\n"
     ]
    }
   ],
   "source": [
    "import cv2 \n",
    "import glob\n",
    "import numpy\n",
    "import pytesseract\n",
    "from pytesseract.pytesseract import image_to_osd\n",
    "\n",
    "for image in  glob.glob('/home/sharbadeepa/Documents/1215.jpeg'):\n",
    "    img = cv2.imread(image)\n",
    "    image_data = pytesseract.image_to_osd(img)\n",
    "    print(image_data)\n",
    "\n",
    "\n"
   ]
  },
  {
   "cell_type": "code",
   "execution_count": null,
   "id": "4cb6ceed",
   "metadata": {},
   "outputs": [],
   "source": []
  },
  {
   "cell_type": "code",
   "execution_count": null,
   "id": "e28e240c",
   "metadata": {},
   "outputs": [],
   "source": []
  }
 ],
 "metadata": {
  "kernelspec": {
   "display_name": "Python 3 (ipykernel)",
   "language": "python",
   "name": "python3"
  },
  "language_info": {
   "codemirror_mode": {
    "name": "ipython",
    "version": 3
   },
   "file_extension": ".py",
   "mimetype": "text/x-python",
   "name": "python",
   "nbconvert_exporter": "python",
   "pygments_lexer": "ipython3",
   "version": "3.8.10"
  }
 },
 "nbformat": 4,
 "nbformat_minor": 5
}
